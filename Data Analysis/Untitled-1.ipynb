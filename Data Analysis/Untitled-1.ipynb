{
 "cells": [
  {
   "cell_type": "code",
   "execution_count": 1,
   "metadata": {},
   "outputs": [
    {
     "name": "stdout",
     "output_type": "stream",
     "text": [
      "    Name  Age         City\n",
      "1  Alice   28  Los Angeles\n",
      "    Name  Age         City\n",
      "1  Alice   28  Los Angeles\n",
      "    Name  Age         City\n",
      "1  Alice   28  Los Angeles\n",
      "    Name  Age         City\n",
      "1  Alice   28  Los Angeles\n",
      "    Name  Age         City\n",
      "1  Alice   28  Los Angeles\n",
      "    Name  Age         City\n",
      "1  Alice   28  Los Angeles\n",
      "    Name  Age         City\n",
      "1  Alice   28  Los Angeles\n",
      "    Name  Age         City\n",
      "1  Alice   28  Los Angeles\n",
      "    Name  Age         City\n",
      "1  Alice   28  Los Angeles\n"
     ]
    },
    {
     "ename": "",
     "evalue": "",
     "output_type": "error",
     "traceback": [
      "\u001b[1;31mThe Kernel crashed while executing code in the the current cell or a previous cell. Please review the code in the cell(s) to identify a possible cause of the failure. Click <a href='https://aka.ms/vscodeJupyterKernelCrash'>here</a> for more info. View Jupyter <a href='command:jupyter.viewOutput'>log</a> for further details."
     ]
    }
   ],
   "source": [
    "import tkinter as tk\n",
    "import pandas as pd\n",
    "\n",
    "# Create a sample dataframe\n",
    "data = {'Name': ['John', 'Alice', 'Bob', 'Charlie'],\n",
    "        'Age': [25, 28, 31, 34],\n",
    "        'City': ['New York', 'Los Angeles', 'Chicago', 'San Francisco']}\n",
    "df = pd.DataFrame(data)\n",
    "\n",
    "# Create the main window\n",
    "root = tk.Tk()\n",
    "root.title(\"Dataframe with Drop-down Menu\")\n",
    "\n",
    "# Create a StringVar to store the selected value from the drop-down menu\n",
    "selected_value = tk.StringVar()\n",
    "\n",
    "# Function to update the dataframe based on the selected value\n",
    "def update_dataframe():\n",
    "    selected_city = selected_value.get()\n",
    "    filtered_df = df[df['City'] == selected_city]\n",
    "    print(filtered_df)\n",
    "\n",
    "# Create a drop-down menu\n",
    "options = df['City'].unique()\n",
    "selected_value.set(options[0])\n",
    "dropdown = tk.OptionMenu(root, selected_value, *options)\n",
    "dropdown.pack()\n",
    "\n",
    "# Create a button to trigger the update_dataframe function\n",
    "btn = tk.Button(root, text=\"Update\", command=update_dataframe)\n",
    "btn.pack()\n",
    "\n",
    "root.mainloop()\n"
   ]
  },
  {
   "cell_type": "code",
   "execution_count": null,
   "metadata": {},
   "outputs": [],
   "source": []
  }
 ],
 "metadata": {
  "kernelspec": {
   "display_name": "Python 3",
   "language": "python",
   "name": "python3"
  },
  "language_info": {
   "codemirror_mode": {
    "name": "ipython",
    "version": 3
   },
   "file_extension": ".py",
   "mimetype": "text/x-python",
   "name": "python",
   "nbconvert_exporter": "python",
   "pygments_lexer": "ipython3",
   "version": "3.11.3"
  },
  "orig_nbformat": 4
 },
 "nbformat": 4,
 "nbformat_minor": 2
}
